{
 "cells": [
  {
   "cell_type": "code",
   "execution_count": 11,
   "metadata": {},
   "outputs": [
    {
     "name": "stdout",
     "output_type": "stream",
     "text": [
      "[18 13 17  8 14 19 11 22 25  0 10 23 21  5  1 24  6 16 12  4  7  3 15  9\n",
      "  2 20]\n"
     ]
    }
   ],
   "source": [
    "import pandas as pd\n",
    "\n",
    "# Define the path to your Excel file\n",
    "file_path = '../data/2022/contribution-search-results.xls'\n",
    "\n",
    "# Load the data from the Excel file\n",
    "# Assuming you want to read from column 'A' to 'L' starting at row 8\n",
    "df = pd.read_excel(file_path, \n",
    "                   usecols='A:L',    # Specifies the columns to read\n",
    "                   skiprows=range(7),  # Skips rows 0-6, so it starts reading from row 7 (which is A8 in Excel)\n",
    "                   engine='xlrd')  # Specifies the engine to use for reading the Excel file\n",
    "\n",
    "# Display the loaded data\n",
    "print(df.Ward.unique())\n"
   ]
  }
 ],
 "metadata": {
  "kernelspec": {
   "display_name": "Python 3",
   "language": "python",
   "name": "python3"
  },
  "language_info": {
   "codemirror_mode": {
    "name": "ipython",
    "version": 3
   },
   "file_extension": ".py",
   "mimetype": "text/x-python",
   "name": "python",
   "nbconvert_exporter": "python",
   "pygments_lexer": "ipython3",
   "version": "3.10.13"
  }
 },
 "nbformat": 4,
 "nbformat_minor": 2
}
